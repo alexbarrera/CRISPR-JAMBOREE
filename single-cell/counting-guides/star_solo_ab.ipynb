{
 "cells": [
  {
   "cell_type": "markdown",
   "id": "1c3fb2f1-3368-4000-acf3-8d82239d88d9",
   "metadata": {},
   "source": [
    "Write `.bashrc`"
   ]
  },
  {
   "cell_type": "code",
   "execution_count": 1,
   "id": "5d6e3e6a-ecab-4df3-bb26-3c7009a3e34a",
   "metadata": {},
   "outputs": [
    {
     "name": "stdout",
     "output_type": "stream",
     "text": [
      "Writing /home/jovyan/.bashrc\n"
     ]
    }
   ],
   "source": [
    "%%writefile ~/.bashrc\n",
    "# Source global definitions\n",
    "if [ -f /etc/bashrc ]; then\n",
    "        . /etc/bashrc\n",
    "fi\n",
    "\n",
    "# User specific aliases and functions\n",
    "# Juan's heritage\n",
    "PS1=\"\\u\\[\\033[m\\]@\\[\\033[32m\\]\\h:\\[\\033[33;1m\\]\\W\\[\\033[m\\]$ \" # para colorear la consola\n",
    "#alias ls='ls --color ' #Para colorear los directorios\n",
    "alias ll='ls --color -lah '\n",
    "alias lt='ls --color -lta '\n",
    "alias rm='rm -i'\n",
    "alias grep='grep --color=auto'\n",
    "alias tarzip='tar -cvzf'\n",
    "alias untar='tar -xvzf'\n",
    "alias rmi='rm -i'\n",
    "\n"
   ]
  },
  {
   "cell_type": "code",
   "execution_count": 4,
   "id": "9a66eb96-f12e-4f50-a31d-8e5e90358949",
   "metadata": {},
   "outputs": [
    {
     "name": "stdout",
     "output_type": "stream",
     "text": [
      "Collecting seqspec\n",
      "  Downloading seqspec-0.1.1-py3-none-any.whl.metadata (2.8 kB)\n",
      "Requirement already satisfied: pyyaml>=6.0 in /opt/conda/lib/python3.11/site-packages (from seqspec) (6.0.1)\n",
      "Requirement already satisfied: jsonschema in /opt/conda/lib/python3.11/site-packages (from seqspec) (4.19.1)\n",
      "Collecting newick (from seqspec)\n",
      "  Downloading newick-1.9.0-py2.py3-none-any.whl.metadata (8.4 kB)\n",
      "Requirement already satisfied: requests in /opt/conda/lib/python3.11/site-packages (from seqspec) (2.31.0)\n",
      "Requirement already satisfied: attrs>=22.2.0 in /opt/conda/lib/python3.11/site-packages (from jsonschema->seqspec) (23.1.0)\n",
      "Requirement already satisfied: jsonschema-specifications>=2023.03.6 in /opt/conda/lib/python3.11/site-packages (from jsonschema->seqspec) (2023.7.1)\n",
      "Requirement already satisfied: referencing>=0.28.4 in /opt/conda/lib/python3.11/site-packages (from jsonschema->seqspec) (0.30.2)\n",
      "Requirement already satisfied: rpds-py>=0.7.1 in /opt/conda/lib/python3.11/site-packages (from jsonschema->seqspec) (0.10.6)\n",
      "Requirement already satisfied: charset-normalizer<4,>=2 in /opt/conda/lib/python3.11/site-packages (from requests->seqspec) (3.3.0)\n",
      "Requirement already satisfied: idna<4,>=2.5 in /opt/conda/lib/python3.11/site-packages (from requests->seqspec) (3.4)\n",
      "Requirement already satisfied: urllib3<3,>=1.21.1 in /opt/conda/lib/python3.11/site-packages (from requests->seqspec) (2.0.7)\n",
      "Requirement already satisfied: certifi>=2017.4.17 in /opt/conda/lib/python3.11/site-packages (from requests->seqspec) (2024.2.2)\n",
      "Downloading seqspec-0.1.1-py3-none-any.whl (24 kB)\n",
      "Downloading newick-1.9.0-py2.py3-none-any.whl (15 kB)\n",
      "Installing collected packages: newick, seqspec\n",
      "Successfully installed newick-1.9.0 seqspec-0.1.1\n"
     ]
    }
   ],
   "source": [
    "!pip install seqspec"
   ]
  },
  {
   "cell_type": "code",
   "execution_count": 103,
   "id": "cc362e0f-b61a-4ca5-8ebc-244c5fa40049",
   "metadata": {},
   "outputs": [],
   "source": [
    "%%bash\n",
    "mkdir -p data"
   ]
  },
  {
   "cell_type": "code",
   "execution_count": null,
   "id": "985ba25a-de95-4e48-b055-36bb76886b5b",
   "metadata": {},
   "outputs": [],
   "source": [
    "import numpy as np\n",
    "import pandas as pd\n",
    "df = pd.read_csv(\"/mnt/shared/counting_guides/metadata/TF_CRISPR_i_a.scRNAseq_screen.igvf_metadata.txt\", sep = '\\t')\n",
    "\n",
    "def get_index_str(c):\n",
    "    if c.targeting:\n",
    "        return f\"{c['guide_chr']}_{int(c['guide_start'])}_{int(c['guide_end'])}_\"\\\n",
    "        f\"{c['strand']}_{c['protospacer']}_{c['intended_target_name']}\"\n",
    "    else:\n",
    "        return f\"{c['type']}_{c['protospacer']}\"\n",
    "        \n",
    "df.index = [get_index_str(f[1]) for f in df.iterrows()]\n",
    "\n",
    "\n",
    "with open(\"~/data/TF_CRISPR_i_a.scRNAseq_screen.protospaces.fa\",\"w\") as ofile:\n",
    "    for l in zip(df.index, df.protospacer):\n",
    "        ofile.write(\">\" + l[0] + \"\\n\")\n",
    "        ofile.write(l[1] + \"\\n\")"
   ]
  },
  {
   "cell_type": "code",
   "execution_count": 113,
   "id": "b39f2ba4-896d-4075-afe5-03e62c5a85e6",
   "metadata": {},
   "outputs": [
    {
     "name": "stdout",
     "output_type": "stream",
     "text": [
      "Cloning into 'bed2gtf'...\n",
      "remote: Enumerating objects: 313, done.\u001b[K\n",
      "remote: Counting objects: 100% (142/142), done.\u001b[K\n",
      "remote: Compressing objects: 100% (89/89), done.\u001b[K\n",
      "remote: Total 313 (delta 75), reused 113 (delta 50), pack-reused 171\u001b[K\n",
      "Receiving objects: 100% (313/313), 86.25 KiB | 1.69 MiB/s, done.\n",
      "Resolving deltas: 100% (164/164), done.\n"
     ]
    }
   ],
   "source": [
    "!git clone https://github.com/alejandrogzi/bed2gtf.git"
   ]
  },
  {
   "cell_type": "markdown",
   "id": "0b772244-5754-4271-9724-4f2435992f21",
   "metadata": {},
   "source": [
    "Create GTF"
   ]
  },
  {
   "cell_type": "code",
   "execution_count": 15,
   "id": "ae186518-e2d5-49d4-b7cc-378f83ba49ff",
   "metadata": {},
   "outputs": [],
   "source": [
    "%%bash\n",
    "head ~/data/TF_CRISPR_i_a.scRNAseq_screen.protospaces.fa \\\n",
    "    | awk -vOFS=\"\\t\" 'NR%2==1{gsub(/>/,\"\", $1); print $1, \"awkFa2GTF\", \"gene\", 1, 21, \".\", \"+\", \".\", \"gene_id \" \"\\\"\"$1\"\\\"\"; print $1, \"awkFa2GTF\", \"transcript\", 1, 21, \".\", \"+\", \".\", \"gene_id \" \"\\\"\"$1\"\\\"; transcript_id \\\"\"$1\"_trans\\\"\"; print $1, \"awkFa2GTF\", \"exon\", 1, 21, \".\", \"+\", \".\", \"gene_id \" \"\\\"\"$1\"\\\"; transcript_id \\\"\"$1\"_trans\\\"; exon_id \\\"\"$1\"_exon\\\"\";}' \\\n",
    "> ~/data/TF_CRISPR_i_a.scRNAseq_screen.protospaces.gtf\n"
   ]
  },
  {
   "cell_type": "code",
   "execution_count": 16,
   "id": "529c455a-21e4-4adb-84c3-74b8b3eb8ead",
   "metadata": {},
   "outputs": [
    {
     "name": "stdout",
     "output_type": "stream",
     "text": [
      "\t/opt/conda/bin/STAR-avx2 --runThreadN 2 --runMode genomeGenerate --genomeDir /home/jovyan/data/star_ref --genomeFastaFiles /home/jovyan/data/TF_CRISPR_i_a.scRNAseq_screen.protospaces.fa --genomeSAindexNbases 3 --sjdbGTFfile /home/jovyan/data/TF_CRISPR_i_a.scRNAseq_screen.protospaces.gtf\n",
      "\tSTAR version: 2.7.11b   compiled: 2024-01-29T15:15:38+0000 :/opt/conda/conda-bld/star_1706541070242/work/source\n",
      "Feb 23 22:07:32 ..... started STAR run\n",
      "Feb 23 22:07:32 ... starting to generate Genome files\n",
      "Feb 23 22:07:32 ..... processing annotations GTF\n",
      "Feb 23 22:07:32 ... starting to sort Suffix Array. This may take a long time...\n",
      "Feb 23 22:07:32 ... sorting Suffix Array chunks and saving them to disk...\n",
      "Feb 23 22:07:32 ... loading chunks from disk, packing SA...\n",
      "Feb 23 22:07:32 ... finished generating suffix array\n",
      "Feb 23 22:07:32 ... generating Suffix Array index\n",
      "Feb 23 22:07:32 ... completed Suffix Array index\n",
      "Feb 23 22:07:32 ... writing Genome to disk ...\n",
      "Feb 23 22:07:32 ... writing Suffix Array to disk ...\n",
      "Feb 23 22:07:32 ... writing SAindex to disk\n",
      "Feb 23 22:07:32 ..... finished successfully\n"
     ]
    }
   ],
   "source": [
    "!STAR --runThreadN 2 \\\n",
    "    --runMode genomeGenerate \\\n",
    "    --genomeDir ~/data/star_ref  \\\n",
    "    --genomeFastaFiles /home/jovyan/data/TF_CRISPR_i_a.scRNAseq_screen.protospaces.fa \\\n",
    "    --genomeSAindexNbases 3 \\\n",
    "    --sjdbGTFfile /home/jovyan/data/TF_CRISPR_i_a.scRNAseq_screen.protospaces.gtf\n"
   ]
  },
  {
   "cell_type": "code",
   "execution_count": 17,
   "id": "f3749949-e180-46b2-aeed-a65b4c103bf6",
   "metadata": {},
   "outputs": [
    {
     "name": "stdout",
     "output_type": "stream",
     "text": [
      "\n",
      "gzip: stdout: Broken pipe\n",
      "\n",
      "gzip: stdout: Broken pipe\n"
     ]
    }
   ],
   "source": [
    "!zcat  /mnt/shared/counting_guides/fastq/gRNA_CRISPRi_D3_S9_L001_R1_001.fastq.gz  |  head -n 400000 >/home/jovyan/data/test_R1_001.fastq\n",
    "!zcat /mnt/shared/counting_guides/fastq/gRNA_CRISPRi_D3_S9_L001_R2_001.fastq.gz | head -n 400000 > /home/jovyan/data/test_R2_001.fastq"
   ]
  },
  {
   "cell_type": "code",
   "execution_count": 19,
   "id": "9868d746-2ebe-4074-a708-71ede617ce2a",
   "metadata": {},
   "outputs": [
    {
     "name": "stdout",
     "output_type": "stream",
     "text": [
      "\t/opt/conda/bin/STAR-avx2 --soloType CB_UMI_Simple --readFilesIn /home/jovyan/data/test_R1_001.fastq /home/jovyan/data/test_R2_001.fastq --genomeDir /home/jovyan/data/star_ref --soloCBwhitelist /mnt/shared/counting_guides/metadata/737K-august-2016.txt --soloCBstart 1 --soloCBlen 16 --soloUMIstart 17 --soloUMIlen 10 --soloBarcodeMate 1 --soloCBmatchWLtype 1MM_multi_Nbase_pseudocounts --soloUMIfiltering MultiGeneUMI_CR --soloUMIdedup 1MM_CR --outFilterScoreMin 20 --outSAMtype BAM SortedByCoordinate --outSAMattributes CR UR CY UY CB UB --soloBarcodeReadLength 0 --clip5pNbases 39 0 --outFilterScoreMinOverLread 0 --outFilterMatchNminOverLread 0\n",
      "\tSTAR version: 2.7.11b   compiled: 2024-01-29T15:15:38+0000 :/opt/conda/conda-bld/star_1706541070242/work/source\n",
      "Feb 23 22:12:54 ..... started STAR run\n",
      "Feb 23 22:12:54 ..... loading genome\n",
      "Feb 23 22:12:54 ..... started mapping\n",
      "Feb 23 22:13:04 ..... finished mapping\n",
      "Feb 23 22:13:04 ..... started Solo counting\n",
      "Feb 23 22:13:05 ..... finished Solo counting\n",
      "Feb 23 22:13:05 ..... started sorting BAM\n",
      "Feb 23 22:13:05 ..... finished successfully\n"
     ]
    }
   ],
   "source": [
    "%%bash\n",
    "mkdir -p /home/jovyan/star_solo\n",
    "cd /home/jovyan/star_solo\n",
    "STAR --soloType CB_UMI_Simple \\\n",
    "--readFilesIn  \\\n",
    "    /home/jovyan/data/test_R1_001.fastq  \\\n",
    "    /home/jovyan/data/test_R2_001.fastq    \\\n",
    "--genomeDir /home/jovyan/data/star_ref  \\\n",
    "--soloCBwhitelist /mnt/shared/counting_guides/metadata/737K-august-2016.txt   \\\n",
    "--soloCBstart 1 \\\n",
    "--soloCBlen 16 \\\n",
    "--soloUMIstart 17 \\\n",
    "--soloUMIlen 10 \\\n",
    "--soloBarcodeMate 1 \\\n",
    "--soloCBmatchWLtype 1MM_multi_Nbase_pseudocounts \\\n",
    "--soloUMIfiltering MultiGeneUMI_CR \\\n",
    "--soloUMIdedup 1MM_CR \\\n",
    "--outFilterScoreMin 20 \\\n",
    "--outSAMtype BAM SortedByCoordinate \\\n",
    "--outSAMattributes CR UR CY UY CB UB \\\n",
    "--soloBarcodeReadLength 0 \\\n",
    "--clip5pNbases 39 0  \\\n",
    "--outFilterScoreMinOverLread 0  --outFilterMatchNminOverLread 0 \\\n"
   ]
  },
  {
   "cell_type": "code",
   "execution_count": 109,
   "id": "e1f0ff42-6a52-4397-94d4-0e0d88d7646c",
   "metadata": {},
   "outputs": [
    {
     "name": "stdout",
     "output_type": "stream",
     "text": [
      "protospacer\ttargeting\ttype\tguide_chr\tguide_start\tguide_end\tstrand\tpam\tgenomic_element\tintended_target_name\tintended_target_start\tintended_target_end\tputative_target_genes\treporter\timperfect\tpgRNA\n",
      "CGGGGACACTGGGCCGACGCG\tTrue\ttargeting\tchr1\t212699914.0\t212699940.0\t-\tTGGAGT\tpromoter\tBATF3\t212699840.0\t212699841.0\t\t\t\t\n",
      "CCGGTGGCCTTATTATAAAGG\tTrue\ttargeting\tchr3\t27722356.0\t27722355.0\t+\tCAGGAT\tpromoter\tEOMES\t27722711.0\t27722712.0\t\t\t\t\n",
      "ACATATCTGGGAAAAGACCTA\tTrue\ttargeting\tchr14\t75522341.0\t75522367.0\t-\tCAGAAT\tpromoter\tBATF\t75522454.0\t75522455.0\t\t\t\t\n",
      "CAGTTGAGGCTTGAAGGGCCA\tTrue\ttargeting\tchr3\t4979808.0\t4979834.0\t-\tAGGAGT\tpromoter\tBHLHE40\t4979436.0\t4979437.0\t\t\t\t\n",
      "TCCGCCCATGTGACTTCCAGC\tTrue\ttargeting\tchr14\t75522422.0\t75522421.0\t+\tGTGAGT\tpromoter\tBATF\t75522454.0\t75522455.0\t\t\t\t\n",
      "TTCCCCCACCACCAGCGGCGA\tTrue\ttargeting\tchr16\t75148548.0\t75148547.0\t+\tGTGGGT\tpromoter\tZFP1\t75148493.0\t75148494.0\t\t\t\t\n",
      "TCCAGCGTGTGAGCCTGGGAG\tTrue\ttargeting\tchr3\t27722586.0\t27722612.0\t-\tGAGGGT\tpromoter\tEOMES\t27722711.0\t27722712.0\t\t\t\t\n",
      "TGTTTTGCAGACGGAAAATGC\tTrue\ttargeting\tchr4\t184474242.0\t184474268.0\t-\tCGGGGT\tpromoter\tIRF2\t184474558.0\t184474559.0\t\t\t\t\n",
      "GTCACATGGGCGGAAACTTCA\tTrue\ttargeting\tchr14\t75522388.0\t75522414.0\t-\tGCGAGT\tpromoter\tBATF\t75522454.0\t75522455.0\t\t\t\t\n"
     ]
    }
   ],
   "source": [
    "!head /mnt/shared/counting_guides/metadata/TF_CRISPR_i_a.scRNAseq_screen.igvf_metadata.txt"
   ]
  },
  {
   "cell_type": "code",
   "execution_count": 111,
   "id": "3bc9e88a-c8d6-4c8c-8c8d-9c701fee21d6",
   "metadata": {},
   "outputs": [],
   "source": [
    "!gzip -dc /mnt/shared/counting_guides/fastq/gRNA_CRISPRi_D3_S9_L001_R2_001.fastq.gz | grep CGGGGACACTGGGCCGACGCG | head"
   ]
  }
 ],
 "metadata": {
  "kernelspec": {
   "display_name": "Python 3 (ipykernel)",
   "language": "python",
   "name": "python3"
  },
  "language_info": {
   "codemirror_mode": {
    "name": "ipython",
    "version": 3
   },
   "file_extension": ".py",
   "mimetype": "text/x-python",
   "name": "python",
   "nbconvert_exporter": "python",
   "pygments_lexer": "ipython3",
   "version": "3.11.6"
  }
 },
 "nbformat": 4,
 "nbformat_minor": 5
}
